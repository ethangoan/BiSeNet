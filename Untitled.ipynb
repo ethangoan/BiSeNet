{
 "cells": [
  {
   "cell_type": "markdown",
   "id": "3b24041a",
   "metadata": {},
   "source": [
    "This is a notebook that will take the original BiSeNetV2 model and will convert\n",
    "it to a last layer Bayesian Model."
   ]
  },
  {
   "cell_type": "code",
   "execution_count": 34,
   "id": "ce428d58",
   "metadata": {},
   "outputs": [],
   "source": [
    "import torch\n",
    "import torch.nn as nn\n",
    "import torch.nn.functional as F\n",
    "import torch.utils.model_zoo as modelzoo\n",
    "from bayesian_torch.layers import Conv2dReparameterization\n",
    "\n",
    "import sys\n",
    "sys.path.insert(0, '.')\n",
    "import os\n",
    "import os.path as osp\n",
    "import random\n",
    "import logging\n",
    "import time\n",
    "import argparse\n",
    "import numpy as np\n",
    "from tabulate import tabulate\n",
    "\n",
    "import torch\n",
    "import torch.nn as nn\n",
    "import torch.distributed as dist\n",
    "from torch.utils.data import DataLoader\n",
    "import torch.cuda.amp as amp\n",
    "\n",
    "from lib.models import model_factory\n",
    "from configs import set_cfg_from_file\n",
    "from lib.data import get_data_loader\n",
    "# from evaluate import eval_model\n",
    "from lib.ohem_ce_loss import OhemCELoss\n",
    "from lib.lr_scheduler import WarmupPolyLrScheduler\n",
    "from lib.meters import TimeMeter, AvgMeter\n",
    "from lib.logger import setup_logger, print_log_msg\n",
    "\n",
    "from lib.models.bisenetv1 import BiSeNetV1\n",
    "from lib.models.bisenetv2 import BiSeNetV2, BayesBiSeNetV2\n",
    "\n"
   ]
  },
  {
   "cell_type": "markdown",
   "id": "d1907c5b",
   "metadata": {},
   "source": [
    "Load in the original network."
   ]
  },
  {
   "cell_type": "code",
   "execution_count": 35,
   "id": "30daa5af",
   "metadata": {},
   "outputs": [
    {
     "data": {
      "text/plain": [
       "<All keys matched successfully>"
      ]
     },
     "execution_count": 35,
     "metadata": {},
     "output_type": "execute_result"
    }
   ],
   "source": [
    "net = BiSeNetV2(19)\n",
    "net.load_state_dict(torch.load('/home/ethan/code/BiSeNet/models/model_final_v2_city.pth', map_location='cpu'))"
   ]
  },
  {
   "cell_type": "markdown",
   "id": "a0ff9521",
   "metadata": {},
   "source": [
    "Now want to convert this into a last layer bayesian module\n"
   ]
  },
  {
   "cell_type": "code",
   "execution_count": 36,
   "id": "1eba0f0b",
   "metadata": {},
   "outputs": [
    {
     "name": "stdout",
     "output_type": "stream",
     "text": [
      "here\n"
     ]
    }
   ],
   "source": [
    "bayes_net = BayesBiSeNetV2(19)\n",
    "bayes_state = bayes_net.state_dict()"
   ]
  },
  {
   "cell_type": "code",
   "execution_count": 37,
   "id": "e8778398",
   "metadata": {},
   "outputs": [],
   "source": [
    "#[print(x) for x in bayes_net.state_dict().keys() if 'weight' in x]\n",
    "#print(bayes_state['detail.S3.1.conv.weight'])\n",
    "#print(bayes_net.head.conv_bayes.prior_weight_mu)\n",
    "for key in bayes_net.state_dict().keys():\n",
    "    if torch.sum(torch.isnan(bayes_state[key])): \n",
    "        print(f'param {key} has nans')"
   ]
  },
  {
   "cell_type": "markdown",
   "id": "8b19737c",
   "metadata": {},
   "source": [
    "Now load in the model weights, change the names and set the model parameters."
   ]
  },
  {
   "cell_type": "code",
   "execution_count": 38,
   "id": "ab57c163",
   "metadata": {},
   "outputs": [],
   "source": [
    "# load model weights\n",
    "state = torch.load('/home/ethan/code/BiSeNet/models/model_final_v2_city.pth', map_location='cpu')\n",
    "\n",
    "# change the weight key names\n",
    "bayes_state[\"head.conv_bayes.mu_kernel\"] = state[\"head.conv_out.1.weight\"]\n",
    "bayes_state[\"head.conv_bayes.mu_bias\"] = state[\"head.conv_out.1.bias\"]\n",
    "bayes_state[\"head.conv_bayes.rho_kernel\"] = torch.log(np.exp(0.01) - torch.ones(bayes_state[\"head.conv_bayes.mu_kernel\"].shape))\n",
    "bayes_state[\"head.conv_bayes.rho_bias\"] = torch.log(np.exp(0.01) - torch.ones(bayes_state[\"head.conv_bayes.mu_bias\"].shape))\n",
    "#bayes_state[\"head.conv_bayes.rho_kernel\"] = -1.0 * torch.ones(bayes_state[\"head.conv_bayes.mu_kernel\"].shape)\n",
    "#bayes_state[\"head.conv_bayes.rho_bias\"] = -1.0 * torch.ones(bayes_state[\"head.conv_bayes.mu_bias\"].shape)\n",
    "\n",
    "# state[\"head.conv_bayes.prior_weight_sigma\"] = torch.log(np.exp(1.0) - torch.ones(state[\"head.conv_bayes.mu_kernel\"].shape))\n",
    "\n",
    "bayes_net.load_state_dict(bayes_state)\n",
    "bayes_state_pth = os.path.join('models', 'model_init_bayes_v2_city.pth')\n",
    "torch.save(bayes_state, bayes_state_pth)\n"
   ]
  },
  {
   "cell_type": "code",
   "execution_count": 39,
   "id": "633ae85d",
   "metadata": {},
   "outputs": [],
   "source": [
    "# now  save the model state\n",
    "bayes_state_pth = os.path.join('models', 'model_init_bayes_v2_city.pth')\n",
    "torch.save(bayes_state, bayes_state_pth)\n",
    "for key in bayes_net.state_dict().keys():\n",
    "    if torch.sum(torch.isnan(bayes_state[key])): \n",
    "        print(f'param {key} has nans')"
   ]
  },
  {
   "cell_type": "code",
   "execution_count": 40,
   "id": "47b9940c",
   "metadata": {},
   "outputs": [
    {
     "data": {
      "text/plain": [
       "tensor([ 2.0577,  2.0003,  1.8694,  1.1057,  0.9007,  0.4278, -0.7524, -0.0559,\n",
       "         1.6282,  1.2611,  0.8248,  0.6154, -1.3360,  1.3318,  0.5583,  0.0364,\n",
       "        -0.0864, -1.4809, -0.2128])"
      ]
     },
     "execution_count": 40,
     "metadata": {},
     "output_type": "execute_result"
    }
   ],
   "source": [
    "# bayes_net.head.conv_bayes.prior_bias\n",
    "state[\"head.conv_out.1.bias\"]"
   ]
  },
  {
   "cell_type": "code",
   "execution_count": 41,
   "id": "72e7114f",
   "metadata": {},
   "outputs": [],
   "source": [
    "# num_of_gpus = torch.cuda.device_count()\n",
    "# print(num_of_gpus)\n",
    "# local_rank = int(os.environ['LOCAL_RANK'])\n",
    "# print(local_rank)"
   ]
  },
  {
   "cell_type": "code",
   "execution_count": 44,
   "id": "2349ab57",
   "metadata": {},
   "outputs": [
    {
     "name": "stdout",
     "output_type": "stream",
     "text": [
      "-2.25216846104409\n",
      "0.10000000000000007\n"
     ]
    }
   ],
   "source": [
    "print(np.log(np.exp(0.10) - 1.0))\n",
    "print(np.log(1 + np.exp(-2.25216846104409)))"
   ]
  }
 ],
 "metadata": {
  "kernelspec": {
   "display_name": "torch",
   "language": "python",
   "name": "torch"
  },
  "language_info": {
   "codemirror_mode": {
    "name": "ipython",
    "version": 3
   },
   "file_extension": ".py",
   "mimetype": "text/x-python",
   "name": "python",
   "nbconvert_exporter": "python",
   "pygments_lexer": "ipython3",
   "version": "3.10.6"
  },
  "name": "Untitled.ipynb"
 },
 "nbformat": 4,
 "nbformat_minor": 5
}
